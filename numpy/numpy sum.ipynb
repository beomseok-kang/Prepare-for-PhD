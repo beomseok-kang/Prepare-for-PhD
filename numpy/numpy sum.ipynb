{
 "cells": [
  {
   "cell_type": "code",
   "execution_count": 1,
   "id": "ed1de0db",
   "metadata": {},
   "outputs": [
    {
     "name": "stdout",
     "output_type": "stream",
     "text": [
      "[[0.60346613 0.91930989]\n",
      " [0.70613796 0.24616677]]\n"
     ]
    }
   ],
   "source": [
    "import numpy as np\n",
    "\n",
    "x = np.random.random([2, 2])\n",
    "\n",
    "print(x)"
   ]
  },
  {
   "cell_type": "code",
   "execution_count": 3,
   "id": "9d28309a",
   "metadata": {
    "scrolled": true
   },
   "outputs": [
    {
     "data": {
      "text/plain": [
       "array([0.60346613, 0.91930989])"
      ]
     },
     "execution_count": 3,
     "metadata": {},
     "output_type": "execute_result"
    }
   ],
   "source": [
    "x[0]"
   ]
  },
  {
   "cell_type": "code",
   "execution_count": 6,
   "id": "426f44f7",
   "metadata": {},
   "outputs": [
    {
     "name": "stdout",
     "output_type": "stream",
     "text": [
      "[[0.36417137 0.84513068]\n",
      " [0.49863081 0.06059808]]\n"
     ]
    }
   ],
   "source": [
    "squared = x**2.0\n",
    "print(squared)"
   ]
  },
  {
   "cell_type": "code",
   "execution_count": 8,
   "id": "763eae37",
   "metadata": {},
   "outputs": [
    {
     "data": {
      "text/plain": [
       "array([0.86280219, 0.90572875])"
      ]
     },
     "execution_count": 8,
     "metadata": {},
     "output_type": "execute_result"
    }
   ],
   "source": [
    "np.sum(x**2.0, axis=0)"
   ]
  },
  {
   "cell_type": "code",
   "execution_count": 9,
   "id": "c739b212",
   "metadata": {},
   "outputs": [
    {
     "data": {
      "text/plain": [
       "array([1.20930205, 0.55922889])"
      ]
     },
     "execution_count": 9,
     "metadata": {},
     "output_type": "execute_result"
    }
   ],
   "source": [
    "np.sum(x**2.0, axis=1)"
   ]
  },
  {
   "cell_type": "markdown",
   "id": "2ff2c44c",
   "metadata": {},
   "source": [
    "axis=0 gets the sum vertically\n",
    "\n",
    "axis=1 gets the sume horizontally"
   ]
  },
  {
   "cell_type": "markdown",
   "id": "df9f8f7d",
   "metadata": {},
   "source": [
    "Refrence:\n",
    "\n",
    "https://jimmy-ai.tistory.com/116"
   ]
  }
 ],
 "metadata": {
  "kernelspec": {
   "display_name": "Python 3 (ipykernel)",
   "language": "python",
   "name": "python3"
  },
  "language_info": {
   "codemirror_mode": {
    "name": "ipython",
    "version": 3
   },
   "file_extension": ".py",
   "mimetype": "text/x-python",
   "name": "python",
   "nbconvert_exporter": "python",
   "pygments_lexer": "ipython3",
   "version": "3.9.7"
  }
 },
 "nbformat": 4,
 "nbformat_minor": 5
}
