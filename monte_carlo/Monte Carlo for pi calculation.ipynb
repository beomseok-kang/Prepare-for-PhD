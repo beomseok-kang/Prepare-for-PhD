{
 "cells": [
  {
   "cell_type": "code",
   "execution_count": 1,
   "id": "332acb3d",
   "metadata": {},
   "outputs": [
    {
     "ename": "ModuleNotFoundError",
     "evalue": "No module named 'matplotlib'",
     "output_type": "error",
     "traceback": [
      "\u001b[1;31m---------------------------------------------------------------------------\u001b[0m",
      "\u001b[1;31mModuleNotFoundError\u001b[0m                       Traceback (most recent call last)",
      "Cell \u001b[1;32mIn[1], line 3\u001b[0m\n\u001b[0;32m      1\u001b[0m \u001b[39mimport\u001b[39;00m \u001b[39mnumpy\u001b[39;00m \u001b[39mas\u001b[39;00m \u001b[39mnp\u001b[39;00m\n\u001b[0;32m      2\u001b[0m \u001b[39mfrom\u001b[39;00m \u001b[39mmultiprocessing\u001b[39;00m \u001b[39mimport\u001b[39;00m Pool\n\u001b[1;32m----> 3\u001b[0m \u001b[39mfrom\u001b[39;00m \u001b[39mmatplotlib\u001b[39;00m \u001b[39mimport\u001b[39;00m pyplot \u001b[39mas\u001b[39;00m plt\n\u001b[0;32m      5\u001b[0m \u001b[39mif\u001b[39;00m \u001b[39m__name__\u001b[39m \u001b[39m==\u001b[39m \u001b[39m'\u001b[39m\u001b[39m__main__\u001b[39m\u001b[39m'\u001b[39m:\n\u001b[0;32m      6\u001b[0m   N \u001b[39m=\u001b[39m \u001b[39m10\u001b[39m \u001b[39m# Number of repetitions\u001b[39;00m\n",
      "\u001b[1;31mModuleNotFoundError\u001b[0m: No module named 'matplotlib'"
     ]
    }
   ],
   "source": [
    "import numpy as np\n",
    "from multiprocessing import Pool\n",
    "from matplotlib import pyplot as plt\n",
    "\n",
    "if __name__ == '__main__':\n",
    "  N = 10 # Number of repetitions\n",
    "  x = np.random.random([N, 2]) # Sets random x and y\n",
    "  distance = np.sum(x ** 2.0, axis=1) # for each point, distance = x^2 + y^2\n",
    "  in_out = distance <= 1.0 # Points that have smaller distance than 1 (meaning they are inside the radius)\n",
    "  pi = np.sum(in_out) * 4 / N\n",
    "  color = list(map(lambda x: 'red' if x else 'blue', in_out))\n",
    "\n",
    "  print(distance)\n",
    "\n",
    "  # scatter the points\n",
    "  plt.figure (figsize=(5,5))\n",
    "  plt.scatter(x[:,0], x[:,1], color=color, s=5, label = 'Result : {}'.format(np.round(pi, 4)))\n",
    "  \n",
    "  # draw the circle (through radius)\n",
    "  cx = np.cos(np.linspace(0, np.pi/2, 1000))\n",
    "  cy = np.sin(np.linspace(0, np.pi/2, 1000))\n",
    "  plt.plot(cx, cy, color = 'black', lw=2)\n",
    "\n",
    "  plt.xlim(0, 1)\n",
    "  plt.ylim(0, 1)\n",
    "  plt.show()"
   ]
  },
  {
   "cell_type": "code",
   "execution_count": null,
   "id": "6d681004",
   "metadata": {},
   "outputs": [],
   "source": []
  }
 ],
 "metadata": {
  "kernelspec": {
   "display_name": "Python 3",
   "language": "python",
   "name": "python3"
  },
  "language_info": {
   "codemirror_mode": {
    "name": "ipython",
    "version": 3
   },
   "file_extension": ".py",
   "mimetype": "text/x-python",
   "name": "python",
   "nbconvert_exporter": "python",
   "pygments_lexer": "ipython3",
   "version": "3.9.5"
  },
  "vscode": {
   "interpreter": {
    "hash": "81794d4967e6c3204c66dcd87b604927b115b27c00565d3d43f05ba2f3a2cb0d"
   }
  }
 },
 "nbformat": 4,
 "nbformat_minor": 5
}
